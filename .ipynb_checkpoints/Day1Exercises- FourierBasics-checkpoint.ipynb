{
 "cells": [
  {
   "cell_type": "markdown",
   "metadata": {},
   "source": [
    "# Fourier Work\n",
    "The following are exercises that are based on the discussion of Fourier transforms in Mark Newman's Computational Physics book.\n",
    "\n",
    "## 1) Basics of DFTs"
   ]
  },
  {
   "cell_type": "code",
   "execution_count": 1,
   "metadata": {},
   "outputs": [],
   "source": [
    "import numpy as np\n",
    "%matplotlib notebook\n",
    "import matplotlib.pyplot as plt"
   ]
  },
  {
   "cell_type": "markdown",
   "metadata": {},
   "source": [
    "Consider the sine-wave with frequency $f$.\n",
    "\n",
    "\\begin{equation}\n",
    "f(t) = sin(2 \\pi f t)\n",
    "\\end{equation}\n",
    "\n",
    "Let's assume that $f = \\frac{1}{150}$ Hz (recall: Hz is (1 / seconds)). Thus the period of the wave is $T = 1/f = 150$ seconds.\n",
    "\n",
    "1.1 Using Euler's formula, we can write this sine wave in the form of a Fourier series.\n",
    "> $f(t) = \\frac{1}{2i}e^{i 2 \\pi f t} + \\frac{-1}{2i}e^{-i 2 \\pi f t}$\n",
    "\n",
    "\n",
    "1.2 Take $N$ samples of this sine wave over four complete periods of oscillation. That is, at $t_{n} = \\frac{n}{N}L$; for $n = 0, 1, ... N-1$, where $L = 4T$."
   ]
  },
  {
   "cell_type": "code",
   "execution_count": 3,
   "metadata": {},
   "outputs": [],
   "source": [
    "#1.2 SOLUTION"
   ]
  },
  {
   "cell_type": "markdown",
   "metadata": {},
   "source": [
    "1.3 Plot the sampled signal, $y_{n}$. Using the code\n",
    "\n",
    "```python\n",
    "fig, ax = plt.subplots()\n",
    "ax.plot(t, samples, marker='x')\n",
    "ax.grid()\n",
    "ax.set_xlabel(\"t (seconds)\")\n",
    "```"
   ]
  },
  {
   "cell_type": "code",
   "execution_count": 4,
   "metadata": {},
   "outputs": [],
   "source": [
    "# 1.3 SOLUTION"
   ]
  },
  {
   "cell_type": "markdown",
   "metadata": {},
   "source": [
    "1.4 Perform a real-valued DFT of the sampled wave-form using `np.fft.rfft`."
   ]
  },
  {
   "cell_type": "code",
   "execution_count": 7,
   "metadata": {},
   "outputs": [],
   "source": [
    "# 1.4 SOLUTION"
   ]
  },
  {
   "cell_type": "markdown",
   "metadata": {},
   "source": [
    "1.5 Return to the \"Audio Signals Basics\" notebook and copy the code that you used to sample and plot the major triad:\n",
    " - 523.25 Hz (C)\n",
    " - 659.25 Hz (E)\n",
    " - 783.99 Hz (G)\n",
    " \n",
    "Sample 0.5 seconds of this analog signal using a sample rate of 2000 Hz. Take the discrete Fourier transform of the resulting digital signal. Plot the magnitudes of the Fourier coefficients as a function of frequency: $|c_{k}|$ vs $\\nu_{k}$. What are the significance of the peaks that you see? What information does this plot provide us with that a plot of the wave form wouldn't?\n",
    "\n",
    "Use `ax.set_xlim(400, 1000)` to limit the x-values plotted to be between 400Hz and 1000Hz."
   ]
  },
  {
   "cell_type": "code",
   "execution_count": 8,
   "metadata": {},
   "outputs": [],
   "source": [
    "# 1.5 SOLUTION"
   ]
  },
  {
   "cell_type": "markdown",
   "metadata": {},
   "source": [
    "## 2. Discrete Fourier Transforms of Various Signals\n",
    "\n",
    "**The following are exercises from Chapter 7 of Mark Newman's Computational Physics book.**"
   ]
  },
  {
   "cell_type": "markdown",
   "metadata": {},
   "source": [
    "For all problems, take $N = 1,000$\n",
    "\n",
    "2.1 Perform a DFT on a single period of a square wave of amplitude 1. Its period is 5 seconds long. Plot the wave form versus time and plot the Fourier spectrum, $|c_{k}|$ vs $\\nu_{k}$."
   ]
  },
  {
   "cell_type": "code",
   "execution_count": null,
   "metadata": {},
   "outputs": [],
   "source": [
    "def square_filter(x):\n",
    "    return 1 if x >= 0 else -1\n",
    "\n",
    "# 2.1 SOLUTION"
   ]
  },
  {
   "cell_type": "code",
   "execution_count": null,
   "metadata": {},
   "outputs": [],
   "source": [
    "fig,ax = plt.subplots()\n",
    "ax.plot(time, points, marker='o')\n",
    "ax.grid()\n",
    "ax.set_xlabel(\"t (seconds)\")"
   ]
  },
  {
   "cell_type": "markdown",
   "metadata": {},
   "source": [
    "2.4 Perform a DFT of noisy signal that is centered around 0"
   ]
  },
  {
   "cell_type": "code",
   "execution_count": null,
   "metadata": {},
   "outputs": [],
   "source": [
    "def noise(t): \n",
    "    return np.random.rand(*t.shape) - .5\n",
    "\n",
    "# 2.2 SOLUTION\n",
    "ax.plot(time, points, marker='o')\n",
    "ax.grid()\n",
    "ax.set_xlabel(\"t (seconds)\")"
   ]
  },
  {
   "cell_type": "markdown",
   "metadata": {},
   "source": [
    "# 3. Applications of Fourier Tranforms: Smoothing Stock Market Data"
   ]
  },
  {
   "cell_type": "markdown",
   "metadata": {},
   "source": [
    "3.1 Read in the stock market data from `data/dow.txt`. Each data point corresponds to the daily closing value of the Dow Jones Industrial Average (starting in late 2006 and ending in late 2010). Use the following code to read in the data:\n",
    "\n",
    "```python\n",
    "with open(\"data/dow.txt\", 'r') as R:\n",
    "    # Each row of the txt file contains the closing value of the market\n",
    "    # This data is read in as a numpy array of floating point values\n",
    "    data = np.asarray([float(i) for i in R])\n",
    "```\n",
    "\n",
    "Plot the data on labeled axes."
   ]
  },
  {
   "cell_type": "code",
   "execution_count": 9,
   "metadata": {},
   "outputs": [],
   "source": [
    "# 3.1 SOLUTION"
   ]
  },
  {
   "cell_type": "code",
   "execution_count": null,
   "metadata": {},
   "outputs": [],
   "source": [
    "fig, ax = plt.subplots()\n",
    "ax.plot(data)\n",
    "ax.grid()\n",
    "ax.set_xlabel(\"Days\")\n",
    "ax.set_ylabel(\"Dow Jones Industrial Average\");"
   ]
  },
  {
   "cell_type": "markdown",
   "metadata": {},
   "source": [
    "3.2 Perform an FFT on this real-valued data, and plot $|c_{k}|$ vs $\\nu_{k}$. The y-axis should be on a log scale. The $\\nu_{k}$-axis should be scaled to be in units of [1 / days]."
   ]
  },
  {
   "cell_type": "code",
   "execution_count": null,
   "metadata": {},
   "outputs": [],
   "source": [
    "# 3.2 SOLUTION"
   ]
  },
  {
   "cell_type": "code",
   "execution_count": null,
   "metadata": {},
   "outputs": [],
   "source": [
    "ax.plot(k, np.abs(ck))\n",
    "ax.set_xlabel(\"Frequency [1 / days]\")\n",
    "ax.set_yscale(\"log\")"
   ]
  },
  {
   "cell_type": "markdown",
   "metadata": {},
   "source": [
    "3.3 We want to smooth this stock market data. We can do this by \"removing\" the high-frequency coefficients of its Fourier spectrum. Try zeroing-out the top 90% high-frequency coefficients, and then perform an inverse FFT (`np.fft.irfft`) using these altered coefficients. Plot the \"recovered\" signal on top of a semi-transparent version of the original data (use the plot parameter `alpha=0.5`). Then repeat this, but with zeroing out the top 98% coefficients. As you can see, filtering out the top 90% of the coefficients removes all of the day-to-day fluctuations, up to the fluctuations over ten-day spans. Filtering the top 98% coefficients extends this up to 50-day fluctuations."
   ]
  },
  {
   "cell_type": "code",
   "execution_count": 10,
   "metadata": {},
   "outputs": [],
   "source": [
    "#3.3 SOLUTION"
   ]
  },
  {
   "cell_type": "code",
   "execution_count": null,
   "metadata": {},
   "outputs": [],
   "source": [
    "fig, ax = plt.subplots()\n",
    "ax.plot(data, alpha=0.5)\n",
    "ax.plot(smooth_data)\n",
    "ax.set_xlabel(\"Days\")\n",
    "ax.set_ylabel(\"Dow Jones Industrial Average\")"
   ]
  },
  {
   "cell_type": "markdown",
   "metadata": {},
   "source": [
    "3.4 Now repeat this process but zero-out the bottom 10% **low-frequency** coefficients. What do you see? Why is there a huge down-shift in the recovered data (recall the role of $c_{k=0}$)? What would happen if you filtered out the bottom 10% low-frequency coefficients **except** for $c_{0}$? As you'll be able to see, filtering out the bottom 10% shifts the data down so that its mean is 0, and it removes any fluctutions longer than a 10-day span. Retaining $c_{0}$ will restore the mean value of the data."
   ]
  },
  {
   "cell_type": "code",
   "execution_count": null,
   "metadata": {},
   "outputs": [],
   "source": [
    "#3.4 SOLUTION"
   ]
  },
  {
   "cell_type": "code",
   "execution_count": null,
   "metadata": {},
   "outputs": [],
   "source": [
    "fig, ax = plt.subplots()\n",
    "ax.plot(data, alpha=0.5)\n",
    "ax.plot(smooth_data)"
   ]
  }
 ],
 "metadata": {
  "kernelspec": {
   "display_name": "Python 3",
   "language": "python",
   "name": "python3"
  },
  "language_info": {
   "codemirror_mode": {
    "name": "ipython",
    "version": 3
   },
   "file_extension": ".py",
   "mimetype": "text/x-python",
   "name": "python",
   "nbconvert_exporter": "python",
   "pygments_lexer": "ipython3",
   "version": "3.6.5"
  }
 },
 "nbformat": 4,
 "nbformat_minor": 2
}

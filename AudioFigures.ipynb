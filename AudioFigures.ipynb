{
 "cells": [
  {
   "cell_type": "markdown",
   "metadata": {},
   "source": [
    "# Audio Figures"
   ]
  },
  {
   "cell_type": "markdown",
   "metadata": {},
   "source": [
    "### Propagating Pressure Wave \n",
    "<img src=\"http://www.acs.psu.edu/drussell/Demos/waves/Lwave-v8.gif\">"
   ]
  },
  {
   "cell_type": "markdown",
   "metadata": {},
   "source": [
    "## Standing Pressure Wave\n",
    "<img src=\"http://www.acs.psu.edu/drussell/Demos/StandingWaves/standing.gif\">\n"
   ]
  },
  {
   "cell_type": "markdown",
   "metadata": {},
   "source": [
    "\n",
    "<img src=\"http://www.npr.org/assets/img/2014/04/08/compressionwave.gif\">"
   ]
  },
  {
   "cell_type": "markdown",
   "metadata": {},
   "source": [
    "Simple diagrams of a microphone:\n",
    "\n",
    "<img src=\"https://ear-central.com/wp-content/uploads/2012/12/mic-diagram.png\">\n",
    "\n",
    "<img src=\"http://www.mediacollege.com/audio/images/mic-dynamic.gif\">"
   ]
  },
  {
   "cell_type": "markdown",
   "metadata": {},
   "source": [
    "As the degree of the Taylor polynomial rises, it approaches the correct function. This image shows $\\sin{x}$ and its Taylor approximations, polynomials of degree 1, 3, 5, 7, 9, 11 and 13.\n",
    "\n",
    "<img src=\"https://upload.wikimedia.org/wikipedia/commons/e/e4/Sintay_SVG.svg\">"
   ]
  }
 ],
 "metadata": {
  "kernelspec": {
   "display_name": "Python 3",
   "language": "python",
   "name": "python3"
  },
  "language_info": {
   "codemirror_mode": {
    "name": "ipython",
    "version": 3
   },
   "file_extension": ".py",
   "mimetype": "text/x-python",
   "name": "python",
   "nbconvert_exporter": "python",
   "pygments_lexer": "ipython3",
   "version": "3.6.5"
  }
 },
 "nbformat": 4,
 "nbformat_minor": 2
}
